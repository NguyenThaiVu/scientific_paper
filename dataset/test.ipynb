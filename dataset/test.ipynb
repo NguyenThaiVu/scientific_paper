{
 "cells": [
  {
   "cell_type": "code",
   "execution_count": 1,
   "id": "ea2e63b3",
   "metadata": {},
   "outputs": [],
   "source": [
    "import os \n",
    "import re\n",
    "from typing import List, Dict\n",
    "import pyalex\n",
    "pyalex.config.email = \"nguyenthaivubentre@gmail.com\"\n",
    "from pyalex import Works, Authors, Sources, Institutions, Topics, Publishers, Funders\n",
    "from open_alex_helper import * "
   ]
  },
  {
   "cell_type": "code",
   "execution_count": 2,
   "id": "c941022f",
   "metadata": {},
   "outputs": [],
   "source": [
    "# title = 'Semi-supervised adversarial discriminative domain adaptation'\n",
    "\n",
    "# list_output = Works().search_filter(title=title).get()\n",
    "# print(f\"Number of works found: {len(list_output)}\")"
   ]
  },
  {
   "cell_type": "code",
   "execution_count": null,
   "id": "d9899b44",
   "metadata": {},
   "outputs": [],
   "source": []
  },
  {
   "cell_type": "code",
   "execution_count": 4,
   "id": "41da7746",
   "metadata": {},
   "outputs": [
    {
     "name": "stdout",
     "output_type": "stream",
     "text": [
      "Successfully retrieved paper data.\n"
     ]
    }
   ],
   "source": [
    "title = 'Semi-supervised adversarial discriminative domain adaptation'\n",
    "first_author = 'Nguyen Thai Vu'\n",
    "\n",
    "output = get_paper_from_query(title, 'Nguyen Thai Vu Bentre')\n",
    "\n",
    "if not output:\n",
    "    print(\"No paper found.\")\n",
    "else:\n",
    "    print(\"Successfully retrieved paper data.\")"
   ]
  },
  {
   "cell_type": "code",
   "execution_count": 5,
   "id": "f981c6f9",
   "metadata": {},
   "outputs": [
    {
     "name": "stdout",
     "output_type": "stream",
     "text": [
      "OpenAlex ID: https://openalex.org/W4310124887\n"
     ]
    }
   ],
   "source": [
    "openalex_id = output.get('id')\n",
    "print(f\"OpenAlex ID: {openalex_id}\")"
   ]
  },
  {
   "cell_type": "code",
   "execution_count": 6,
   "id": "11cda26d",
   "metadata": {},
   "outputs": [
    {
     "name": "stdout",
     "output_type": "stream",
     "text": [
      "First author: Thai-Vu Nguyen\n"
     ]
    }
   ],
   "source": [
    "first_author = get_first_author(output)\n",
    "print(f\"First author: {first_author}\")"
   ]
  },
  {
   "cell_type": "code",
   "execution_count": 7,
   "id": "1ce6e079",
   "metadata": {},
   "outputs": [
    {
     "name": "stdout",
     "output_type": "stream",
     "text": [
      "Venue Type: journal\n",
      "Venue Name: Applied Intelligence\n",
      "Is Open Access: True\n"
     ]
    }
   ],
   "source": [
    "venue_info = get_venue_info(output)\n",
    "print(f\"Venue Type: {venue_info['venue_type']}\")\n",
    "print(f\"Venue Name: {venue_info['venue_name']}\")\n",
    "print(f\"Is Open Access: {venue_info['is_open_access']}\")"
   ]
  },
  {
   "cell_type": "code",
   "execution_count": 8,
   "id": "484ee320",
   "metadata": {},
   "outputs": [
    {
     "name": "stdout",
     "output_type": "stream",
     "text": [
      "['Discriminative model', 'Domain Adaptation']\n"
     ]
    }
   ],
   "source": [
    "list_paper_keywords = get_keywords(output)\n",
    "print(list_paper_keywords)"
   ]
  },
  {
   "cell_type": "code",
   "execution_count": 9,
   "id": "17bceab9",
   "metadata": {},
   "outputs": [
    {
     "name": "stdout",
     "output_type": "stream",
     "text": [
      "Number of citations: 8\n"
     ]
    }
   ],
   "source": [
    "number_of_citations = get_number_of_citations(output)\n",
    "print(f\"Number of citations: {number_of_citations}\")"
   ]
  },
  {
   "cell_type": "code",
   "execution_count": 10,
   "id": "57f442d1",
   "metadata": {},
   "outputs": [
    {
     "name": "stdout",
     "output_type": "stream",
     "text": [
      "Number of references: 31\n",
      "Reference ID: https://openalex.org/W123476658\n",
      "Reference ID: https://openalex.org/W1581984155\n",
      "Reference ID: https://openalex.org/W1920962657\n",
      "Reference ID: https://openalex.org/W1982522767\n",
      "Reference ID: https://openalex.org/W2031342017\n",
      "Reference ID: https://openalex.org/W2043884319\n",
      "Reference ID: https://openalex.org/W2064675550\n",
      "Reference ID: https://openalex.org/W2100659887\n",
      "Reference ID: https://openalex.org/W2110158442\n",
      "Reference ID: https://openalex.org/W2110764733\n",
      "Reference ID: https://openalex.org/W2112796928\n",
      "Reference ID: https://openalex.org/W2115403315\n",
      "Reference ID: https://openalex.org/W2115733720\n",
      "Reference ID: https://openalex.org/W2143017621\n",
      "Reference ID: https://openalex.org/W2157331557\n",
      "Reference ID: https://openalex.org/W2250539671\n",
      "Reference ID: https://openalex.org/W2338318698\n",
      "Reference ID: https://openalex.org/W2469508028\n",
      "Reference ID: https://openalex.org/W2478454054\n",
      "Reference ID: https://openalex.org/W2584009249\n",
      "Reference ID: https://openalex.org/W2593768305\n",
      "Reference ID: https://openalex.org/W2617027347\n",
      "Reference ID: https://openalex.org/W2786808285\n",
      "Reference ID: https://openalex.org/W2889945482\n",
      "Reference ID: https://openalex.org/W2962687275\n",
      "Reference ID: https://openalex.org/W2979509742\n",
      "Reference ID: https://openalex.org/W3081972231\n",
      "Reference ID: https://openalex.org/W3090835024\n",
      "Reference ID: https://openalex.org/W3099319035\n",
      "Reference ID: https://openalex.org/W3129397256\n",
      "Reference ID: https://openalex.org/W3137525302\n"
     ]
    }
   ],
   "source": [
    "list_references = get_list_references(output)\n",
    "print(f\"Number of references: {len(list_references)}\")\n",
    "for reference in list_references:\n",
    "    print(f\"Reference ID: {reference}\")"
   ]
  },
  {
   "cell_type": "code",
   "execution_count": null,
   "id": "41f7053b",
   "metadata": {},
   "outputs": [],
   "source": []
  },
  {
   "cell_type": "code",
   "execution_count": 10,
   "id": "54bd3677",
   "metadata": {},
   "outputs": [
    {
     "data": {
      "text/plain": [
       "{'total': 13,\n",
       " 'offset': 0,\n",
       " 'next': 1,\n",
       " 'data': [{'paperId': '204e3073870fae3d05bcbc2f6a8e263d9b72e776',\n",
       "   'title': 'Attention is All you Need',\n",
       "   'venue': 'Neural Information Processing Systems',\n",
       "   'year': 2017,\n",
       "   'openAccessPdf': {'url': '',\n",
       "    'status': None,\n",
       "    'license': None,\n",
       "    'disclaimer': 'Notice: Paper or abstract available at https://arxiv.org/abs/1706.03762, which is subject to the license by the author or copyright owner provided with this content. Please go to the source to verify the license and copyright information for your use.'},\n",
       "   'authors': [{'authorId': '40348417', 'name': 'Ashish Vaswani'},\n",
       "    {'authorId': '1846258', 'name': 'Noam M. Shazeer'},\n",
       "    {'authorId': '3877127', 'name': 'Niki Parmar'},\n",
       "    {'authorId': '39328010', 'name': 'Jakob Uszkoreit'},\n",
       "    {'authorId': '145024664', 'name': 'Llion Jones'},\n",
       "    {'authorId': '19177000', 'name': 'Aidan N. Gomez'},\n",
       "    {'authorId': '40527594', 'name': 'Lukasz Kaiser'},\n",
       "    {'authorId': '3443442', 'name': 'I. Polosukhin'}],\n",
       "   'references': [{'paperId': '032274e57f7d8b456bd255fe76b909b2c1d7458e',\n",
       "     'title': 'A Deep Reinforced Model for Abstractive Summarization'},\n",
       "    {'paperId': '43428880d75b3a14257c3ee9bda054e61eb869c0',\n",
       "     'title': 'Convolutional Sequence to Sequence Learning'},\n",
       "    {'paperId': '4550a4c714920ef57d19878e31c9ebae37b049b2',\n",
       "     'title': 'Massive Exploration of Neural Machine Translation Architectures'},\n",
       "    {'paperId': '204a4a70428f3938d2c538a4d74c7ae0416306d8',\n",
       "     'title': 'A Structured Self-attentive Sentence Embedding'},\n",
       "    {'paperId': '79baf48bd560060549998d7b61751286de062e2a',\n",
       "     'title': 'Factorization tricks for LSTM networks'},\n",
       "    {'paperId': '13d9323a8716131911bfda048a40e2cde1a76a46',\n",
       "     'title': 'Structured Attention Networks'},\n",
       "    {'paperId': '510e26733aaff585d65701b9f1be7ca9d5afc586',\n",
       "     'title': 'Outrageously Large Neural Networks: The Sparsely-Gated Mixture-of-Experts Layer'},\n",
       "    {'paperId': '98445f4172659ec5e891e031d8202c102135c644',\n",
       "     'title': 'Neural Machine Translation in Linear Time'},\n",
       "    {'paperId': '735d547fc75e0772d2a78c46a1cc5fad7da1474c',\n",
       "     'title': 'Can Active Memory Replace Attention?'},\n",
       "    {'paperId': '5b6ec746d309b165f9f9def873a2375b6fb40f3d',\n",
       "     'title': 'Xception: Deep Learning with Depthwise Separable Convolutions'},\n",
       "    {'paperId': 'c6850869aa5e78a107c378d2e8bfa39633158c0c',\n",
       "     'title': \"Google's Neural Machine Translation System: Bridging the Gap between Human and Machine Translation\"},\n",
       "    {'paperId': '63e39cdf1ad884da6bc69096bb3413b5b1100559',\n",
       "     'title': 'Using the Output Embedding to Improve Language Models'},\n",
       "    {'paperId': '97fb4e3d45bb098e27e0071448b6152217bd35a5',\n",
       "     'title': 'Layer Normalization'},\n",
       "    {'paperId': 'b60abe57bc195616063be10638c6437358c81d1e',\n",
       "     'title': 'Deep Recurrent Models with Fast-Forward Connections for Neural Machine Translation'},\n",
       "    {'paperId': '2f2d8f8072e5cc9b296fad551f65f183bdbff7aa',\n",
       "     'title': 'Exploring the Limits of Language Modeling'},\n",
       "    {'paperId': '7345843e87c81e24e42264859b214d26042f8d51',\n",
       "     'title': 'Recurrent Neural Network Grammars'},\n",
       "    {'paperId': '13fe71da009484f240c46f14d9330e932f8de210',\n",
       "     'title': 'Long Short-Term Memory-Networks for Machine Reading'},\n",
       "    {'paperId': '2c03df8b48bf3fa39054345bafabfeff15bfd11d',\n",
       "     'title': 'Deep Residual Learning for Image Recognition'},\n",
       "    {'paperId': '23ffaa0fe06eae05817f527a47ac3291077f9e58',\n",
       "     'title': 'Rethinking the Inception Architecture for Computer Vision'},\n",
       "    {'paperId': '5e4eb58d5b47ac1c73f4cf189497170e75ae6237',\n",
       "     'title': 'Neural GPUs Learn Algorithms'},\n",
       "    {'paperId': 'd76c07211479e233f7c6a6f32d5346c983c5598f',\n",
       "     'title': 'Multi-task Sequence to Sequence Learning'},\n",
       "    {'paperId': '1518039b5001f1836565215eb047526b3ac7f462',\n",
       "     'title': 'Neural Machine Translation of Rare Words with Subword Units'},\n",
       "    {'paperId': '93499a7c7f699b6630a86fad964536f9423bb6d0',\n",
       "     'title': 'Effective Approaches to Attention-based Neural Machine Translation'},\n",
       "    {'paperId': '4f10b9f47c5bb6b54dd4f5ca8d9fa2c0bbd7ec5e',\n",
       "     'title': 'End-To-End Memory Networks'},\n",
       "    {'paperId': '47570e7f63e296f224a0e7f9a0d08b0de3cbaf40',\n",
       "     'title': 'Grammar as a Foreign Language'},\n",
       "    {'paperId': 'a6cb366736791bcccc5c8639de5a8f9636bf87e8',\n",
       "     'title': 'Adam: A Method for Stochastic Optimization'},\n",
       "    {'paperId': 'ac3ee98020251797c2b401e1389461df88e52e62',\n",
       "     'title': 'Empirical Evaluation of Gated Recurrent Neural Networks on Sequence Modeling'},\n",
       "    {'paperId': 'cea967b59209c6be22829699f05b8b1ac4dc092d',\n",
       "     'title': 'Sequence to Sequence Learning with Neural Networks'},\n",
       "    {'paperId': 'fa72afa9b2cbc8f0d7b05d52548906610ffbb9c5',\n",
       "     'title': 'Neural Machine Translation by Jointly Learning to Align and Translate'},\n",
       "    {'paperId': '0b544dfe355a5070b60986319a3f51fb45d1348e',\n",
       "     'title': 'Learning Phrase Representations using RNN Encoder–Decoder for Statistical Machine Translation'},\n",
       "    {'paperId': '6471fd1cbc081fb3b7b5b14d6ab9eaaba02b5c17',\n",
       "     'title': 'Generating Sequences With Recurrent Neural Networks'},\n",
       "    {'paperId': '174bbdb96252454cbb40a9c4e53335996235a008',\n",
       "     'title': 'Fast and Accurate Shift-Reduce Constituent Parsing'},\n",
       "    {'paperId': '5bfd8d40bc071fffaf93685a46974b122ee4239d',\n",
       "     'title': 'Self-Training PCFG Grammars with Latent Annotations Across Languages'},\n",
       "    {'paperId': 'f52de7242e574b70410ca6fb70b79c811919fc00',\n",
       "     'title': 'Learning Accurate, Compact, and Interpretable Tree Annotation'},\n",
       "    {'paperId': '78a9513e70f596077179101f6cb6eadc51602039',\n",
       "     'title': 'Effective Self-Training for Parsing'},\n",
       "    {'paperId': '2e9d221c206e9503ceb452302d68d10e293f2a10',\n",
       "     'title': 'Long Short-Term Memory'},\n",
       "    {'paperId': '0b44fcbeea9415d400c5f5789d6b892b6f98daff',\n",
       "     'title': 'Building a Large Annotated Corpus of English: The Penn Treebank'},\n",
       "    {'paperId': None,\n",
       "     'title': 'Ankur Parikh , Oscar Täckström , Dipanjan Das , and Jakob Uszkoreit . A decomposable attention model'},\n",
       "    {'paperId': '34f25a8704614163c4095b3ee2fc969b60de4698',\n",
       "     'title': 'Dropout: a simple way to prevent neural networks from overfitting'},\n",
       "    {'paperId': '2e5f2b57f4c476dd69dc22ccdf547e48f40a994c',\n",
       "     'title': 'Gradient Flow in Recurrent Nets: the Difficulty of Learning Long-Term Dependencies'},\n",
       "    {'paperId': None,\n",
       "     'title': 'Le , Ilya Sutskever , Oriol Vinyals , and Lukasz Kaiser . Multitask sequence to sequence learning'}]}]}"
      ]
     },
     "execution_count": 10,
     "metadata": {},
     "output_type": "execute_result"
    }
   ],
   "source": [
    "import requests\n",
    "\n",
    "title = \"Attention Is All You Need\"\n",
    "first_author = \"Ashish Vaswani\"\n",
    "\n",
    "url = \"https://api.semanticscholar.org/graph/v1/paper/search\"\n",
    "params = {\n",
    "    \"query\": f\"{title} {first_author}\",\n",
    "    \"limit\": 1,\n",
    "    \"fields\": \"venue,year,references\"\n",
    "}\n",
    "\n",
    "requests.get(url, params=params).json()\n"
   ]
  },
  {
   "cell_type": "code",
   "execution_count": null,
   "id": "14dec8ce",
   "metadata": {},
   "outputs": [
    {
     "name": "stdout",
     "output_type": "stream",
     "text": [
      "Title: Attention is All you Need\n",
      "Venue: Neural Information Processing Systems\n",
      "Year: 2017\n"
     ]
    }
   ],
   "source": [
    "import requests\n",
    "\n",
    "title = \"Attention Is All You Need\"\n",
    "first_author = \"Ashish Vaswani\"\n",
    "\n",
    "url = \"https://api.semanticscholar.org/graph/v1/paper/search\"\n",
    "params = {\n",
    "    \"query\": f\"{title} {first_author}\",\n",
    "    \"limit\": 1,\n",
    "    \"fields\": \"venue,year,references\"\n",
    "}\n",
    "\n",
    "resp = requests.get(url, params=params).json()\n",
    "\n",
    "if resp.get(\"data\"):\n",
    "    paper = resp[\"data\"][0]\n",
    "    print(\"Venue:\", paper[\"venue\"])   # where published\n",
    "    print(\"Year:\", paper[\"year\"])\n",
    "else:\n",
    "    print(\"No match found\")\n"
   ]
  },
  {
   "cell_type": "code",
   "execution_count": null,
   "id": "928e38c2",
   "metadata": {},
   "outputs": [],
   "source": []
  }
 ],
 "metadata": {
  "kernelspec": {
   "display_name": "ds_env",
   "language": "python",
   "name": "python3"
  },
  "language_info": {
   "codemirror_mode": {
    "name": "ipython",
    "version": 3
   },
   "file_extension": ".py",
   "mimetype": "text/x-python",
   "name": "python",
   "nbconvert_exporter": "python",
   "pygments_lexer": "ipython3",
   "version": "3.11.13"
  }
 },
 "nbformat": 4,
 "nbformat_minor": 5
}
