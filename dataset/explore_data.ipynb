{
 "cells": [
  {
   "cell_type": "markdown",
   "id": "7cfdf99a",
   "metadata": {},
   "source": [
    "# Description\n",
    "\n",
    "In this notebook, I will read and explore the dataset"
   ]
  },
  {
   "cell_type": "code",
   "execution_count": 1,
   "id": "150251d2",
   "metadata": {},
   "outputs": [],
   "source": [
    "import os \n",
    "import numpy as np\n",
    "import pandas as pd\n",
    "import json\n",
    "import matplotlib.pyplot as plt\n",
    "import seaborn as sns"
   ]
  },
  {
   "cell_type": "code",
   "execution_count": 16,
   "id": "1b18b6c4",
   "metadata": {},
   "outputs": [],
   "source": [
    "PATH_FOLDER_DATA = \"/home/thaiv7/Desktop/python-project/scientific_paper/dataset/data\"\n",
    "if not os.path.exists(PATH_FOLDER_DATA):\n",
    "    os.makedirs(PATH_FOLDER_DATA)\n",
    "\n",
    "PATH_FILE_CRAW_DATA = os.path.join(PATH_FOLDER_DATA, \"arxiv-metadata-oai-snapshot.json\")\n",
    "\n",
    "PATH_FILE_PROCESSED = os.path.join(PATH_FOLDER_DATA, \"arxiv_metadata_filtered.parquet\")\n",
    "\n",
    "LIST_CS_CATEGORIES= [\n",
    "    'cs.AI', 'cs.AR', 'cs.CC', 'cs.CE', 'cs.CG', 'cs.CL', 'cs.CV',\n",
    "    'cs.CR', 'cs.CY', 'cs.DB', 'cs.DC', 'cs.DL', 'cs.DM', 'cs.DS',\n",
    "    'cs.ET', 'cs.FL', 'cs.GL', 'cs.GR', 'cs.GT', 'cs.HC',\n",
    "    'cs.IR', 'cs.IT', 'cs.LG', 'cs.LO', 'cs.MA',\n",
    "    'cs.MM', 'cs.MS', 'cs.NA', 'cs.NE', 'cs.NI', 'cs.OH', 'cs.OS',\n",
    "    'cs.PF', 'cs.PL', 'cs.RO', 'cs.SC', 'cs.SD',\n",
    "    'cs.SE', 'cs.SI', 'cs.SY'\n",
    "]"
   ]
  },
  {
   "cell_type": "code",
   "execution_count": 17,
   "id": "81041d4d",
   "metadata": {},
   "outputs": [
    {
     "name": "stdout",
     "output_type": "stream",
     "text": [
      "Total number of lines in the file: 2787058\n",
      "Type of data: <class 'list'>\n"
     ]
    }
   ],
   "source": [
    "with open(PATH_FILE_CRAW_DATA, 'r') as file:\n",
    "    data = file.readlines()\n",
    "    \n",
    "print(f\"Total number of lines in the file: {len(data)}\")\n",
    "print(f\"Type of data: {type(data)}\")"
   ]
  },
  {
   "cell_type": "markdown",
   "id": "b837912c",
   "metadata": {},
   "source": [
    "Load sample data"
   ]
  },
  {
   "cell_type": "code",
   "execution_count": 18,
   "id": "948d1fe3",
   "metadata": {},
   "outputs": [
    {
     "name": "stdout",
     "output_type": "stream",
     "text": [
      "Category of the sample: cond-mat.soft\n",
      "Sample data:\n"
     ]
    },
    {
     "data": {
      "text/plain": [
       "{'id': '1803.10636',\n",
       " 'submitter': 'Sylvain Deville',\n",
       " 'authors': \"J\\\\'er\\\\'emy Dhainaut, Giulia Piana, Sylvain Deville, Christian Guizard,\\n  and Michaela Klotz\",\n",
       " 'title': 'Freezing-induced ordering of block copolymer micelles',\n",
       " 'comments': '7 pages, 4 figures',\n",
       " 'journal-ref': 'Chem. Commun., 2014, 50, 12572-12574',\n",
       " 'doi': '10.1039/C4CC05556J',\n",
       " 'report-no': None,\n",
       " 'categories': 'cond-mat.soft',\n",
       " 'license': 'http://arxiv.org/licenses/nonexclusive-distrib/1.0/',\n",
       " 'abstract': '  We demonstrate here the ordering of block copolymer micelles by ice\\ntemplating, below 0 {\\\\deg}C. We used this for the preparation of silica\\nmonoliths that present an ice-templated macroporosity, combined with a 2D\\nhexagonal mesostructure templated by the addition of P123. We propose a\\nmechanism triggered by the progressive freezing-induced concentration.\\n',\n",
       " 'versions': [{'version': 'v1', 'created': 'Wed, 28 Mar 2018 14:14:14 GMT'}],\n",
       " 'update_date': '2018-03-29',\n",
       " 'authors_parsed': [['Dhainaut', 'Jérémy', ''],\n",
       "  ['Piana', 'Giulia', ''],\n",
       "  ['Deville', 'Sylvain', ''],\n",
       "  ['Guizard', 'Christian', ''],\n",
       "  ['Klotz', 'Michaela', '']]}"
      ]
     },
     "execution_count": 18,
     "metadata": {},
     "output_type": "execute_result"
    }
   ],
   "source": [
    "idx = np.random.randint(0, len(data))\n",
    "\n",
    "sample = data[idx]\n",
    "sample = json.loads(sample) \n",
    "category = sample.get('categories', '')\n",
    "print(f\"Category of the sample: {category}\") \n",
    "print(f\"Sample data:\")\n",
    "sample"
   ]
  },
  {
   "cell_type": "markdown",
   "id": "07508adb",
   "metadata": {},
   "source": [
    "# 1. Read data and save to parquet file"
   ]
  },
  {
   "cell_type": "code",
   "execution_count": 19,
   "id": "b20e3411",
   "metadata": {},
   "outputs": [
    {
     "name": "stdout",
     "output_type": "stream",
     "text": [
      "Shape of the DataFrame: (491159, 14)\n"
     ]
    },
    {
     "data": {
      "text/html": [
       "<div>\n",
       "<style scoped>\n",
       "    .dataframe tbody tr th:only-of-type {\n",
       "        vertical-align: middle;\n",
       "    }\n",
       "\n",
       "    .dataframe tbody tr th {\n",
       "        vertical-align: top;\n",
       "    }\n",
       "\n",
       "    .dataframe thead th {\n",
       "        text-align: right;\n",
       "    }\n",
       "</style>\n",
       "<table border=\"1\" class=\"dataframe\">\n",
       "  <thead>\n",
       "    <tr style=\"text-align: right;\">\n",
       "      <th></th>\n",
       "      <th>id</th>\n",
       "      <th>submitter</th>\n",
       "      <th>authors</th>\n",
       "      <th>title</th>\n",
       "      <th>comments</th>\n",
       "      <th>journal-ref</th>\n",
       "      <th>doi</th>\n",
       "      <th>report-no</th>\n",
       "      <th>categories</th>\n",
       "      <th>license</th>\n",
       "      <th>abstract</th>\n",
       "      <th>versions</th>\n",
       "      <th>update_date</th>\n",
       "      <th>authors_parsed</th>\n",
       "    </tr>\n",
       "  </thead>\n",
       "  <tbody>\n",
       "    <tr>\n",
       "      <th>187759</th>\n",
       "      <td>2104.04412</td>\n",
       "      <td>Francesco Moramarco</td>\n",
       "      <td>Francesco Moramarco, Damir Juric, Aleksandar S...</td>\n",
       "      <td>Towards objectively evaluating the quality of ...</td>\n",
       "      <td>None</td>\n",
       "      <td>None</td>\n",
       "      <td>None</td>\n",
       "      <td>None</td>\n",
       "      <td>cs.CL</td>\n",
       "      <td>http://arxiv.org/licenses/nonexclusive-distrib...</td>\n",
       "      <td>We propose a method for evaluating the quali...</td>\n",
       "      <td>[{'version': 'v1', 'created': 'Fri, 9 Apr 2021...</td>\n",
       "      <td>2021-04-12</td>\n",
       "      <td>[[Moramarco, Francesco, ], [Juric, Damir, ], [...</td>\n",
       "    </tr>\n",
       "  </tbody>\n",
       "</table>\n",
       "</div>"
      ],
      "text/plain": [
       "                id            submitter  \\\n",
       "187759  2104.04412  Francesco Moramarco   \n",
       "\n",
       "                                                  authors  \\\n",
       "187759  Francesco Moramarco, Damir Juric, Aleksandar S...   \n",
       "\n",
       "                                                    title comments  \\\n",
       "187759  Towards objectively evaluating the quality of ...     None   \n",
       "\n",
       "       journal-ref   doi report-no categories  \\\n",
       "187759        None  None      None      cs.CL   \n",
       "\n",
       "                                                  license  \\\n",
       "187759  http://arxiv.org/licenses/nonexclusive-distrib...   \n",
       "\n",
       "                                                 abstract  \\\n",
       "187759    We propose a method for evaluating the quali...   \n",
       "\n",
       "                                                 versions update_date  \\\n",
       "187759  [{'version': 'v1', 'created': 'Fri, 9 Apr 2021...  2021-04-12   \n",
       "\n",
       "                                           authors_parsed  \n",
       "187759  [[Moramarco, Francesco, ], [Juric, Damir, ], [...  "
      ]
     },
     "execution_count": 19,
     "metadata": {},
     "output_type": "execute_result"
    }
   ],
   "source": [
    "data_df = []\n",
    "\n",
    "for idx in range(len(data)):\n",
    "    sample = data[idx]\n",
    "    sample = json.loads(sample)  \n",
    "\n",
    "    list_categories = sample.get('categories', '').split(' ')\n",
    "\n",
    "    if all(cat in LIST_CS_CATEGORIES for cat in list_categories):\n",
    "        data_df.append(sample)\n",
    "    \n",
    "data_df = pd.DataFrame(data_df)\n",
    "print(f\"Shape of the DataFrame: {data_df.shape}\")\n",
    "data_df.sample()"
   ]
  },
  {
   "cell_type": "markdown",
   "id": "e3610284",
   "metadata": {},
   "source": [
    "# 2. Process data"
   ]
  },
  {
   "cell_type": "code",
   "execution_count": 20,
   "metadata": {},
   "outputs": [
    {
     "name": "stdout",
     "output_type": "stream",
     "text": [
      "Shape of the DataFrame after selecting columns: (491159, 8)\n"
     ]
    },
    {
     "data": {
      "text/html": [
       "<div>\n",
       "<style scoped>\n",
       "    .dataframe tbody tr th:only-of-type {\n",
       "        vertical-align: middle;\n",
       "    }\n",
       "\n",
       "    .dataframe tbody tr th {\n",
       "        vertical-align: top;\n",
       "    }\n",
       "\n",
       "    .dataframe thead th {\n",
       "        text-align: right;\n",
       "    }\n",
       "</style>\n",
       "<table border=\"1\" class=\"dataframe\">\n",
       "  <thead>\n",
       "    <tr style=\"text-align: right;\">\n",
       "      <th></th>\n",
       "      <th>id</th>\n",
       "      <th>submitter</th>\n",
       "      <th>authors</th>\n",
       "      <th>title</th>\n",
       "      <th>journal-ref</th>\n",
       "      <th>categories</th>\n",
       "      <th>abstract</th>\n",
       "      <th>update_date</th>\n",
       "    </tr>\n",
       "  </thead>\n",
       "  <tbody>\n",
       "    <tr>\n",
       "      <th>283543</th>\n",
       "      <td>2303.05206</td>\n",
       "      <td>Yi-Rui Yang</td>\n",
       "      <td>Yi-Rui Yang, Kun Wang, Wu-Jun Li</td>\n",
       "      <td>FedREP: A Byzantine-Robust, Communication-Effi...</td>\n",
       "      <td>None</td>\n",
       "      <td>cs.LG cs.CR cs.DC</td>\n",
       "      <td>Federated learning (FL) has recently become ...</td>\n",
       "      <td>2023-03-10</td>\n",
       "    </tr>\n",
       "  </tbody>\n",
       "</table>\n",
       "</div>"
      ],
      "text/plain": [
       "                id    submitter                           authors  \\\n",
       "283543  2303.05206  Yi-Rui Yang  Yi-Rui Yang, Kun Wang, Wu-Jun Li   \n",
       "\n",
       "                                                    title journal-ref  \\\n",
       "283543  FedREP: A Byzantine-Robust, Communication-Effi...        None   \n",
       "\n",
       "               categories                                           abstract  \\\n",
       "283543  cs.LG cs.CR cs.DC    Federated learning (FL) has recently become ...   \n",
       "\n",
       "       update_date  \n",
       "283543  2023-03-10  "
      ]
     },
     "execution_count": 20,
     "metadata": {},
     "output_type": "execute_result"
    }
   ],
   "source": [
    "SELECTED_COLUMNS = ['id', 'submitter', 'authors', 'title', \n",
    "                    'journal-ref', 'categories', 'abstract', 'update_date']\n",
    "\n",
    "data_df = data_df[SELECTED_COLUMNS]\n",
    "print(f\"Shape of the DataFrame after selecting columns: {data_df.shape}\")\n",
    "data_df.sample()"
   ]
  },
  {
   "cell_type": "code",
   "execution_count": 21,
   "id": "40b5aa52",
   "metadata": {},
   "outputs": [],
   "source": [
    "def construct_arvix_paper_url(paper_id):\n",
    "    base_url = \"https://arxiv.org/abs/\"\n",
    "    return f\"{base_url}{paper_id}\""
   ]
  },
  {
   "cell_type": "code",
   "execution_count": 22,
   "id": "90b873d9",
   "metadata": {},
   "outputs": [
    {
     "name": "stdout",
     "output_type": "stream",
     "text": [
      "Shape of the DataFrame after selecting columns: (491159, 9)\n"
     ]
    },
    {
     "data": {
      "text/html": [
       "<div>\n",
       "<style scoped>\n",
       "    .dataframe tbody tr th:only-of-type {\n",
       "        vertical-align: middle;\n",
       "    }\n",
       "\n",
       "    .dataframe tbody tr th {\n",
       "        vertical-align: top;\n",
       "    }\n",
       "\n",
       "    .dataframe thead th {\n",
       "        text-align: right;\n",
       "    }\n",
       "</style>\n",
       "<table border=\"1\" class=\"dataframe\">\n",
       "  <thead>\n",
       "    <tr style=\"text-align: right;\">\n",
       "      <th></th>\n",
       "      <th>id</th>\n",
       "      <th>submitter</th>\n",
       "      <th>authors</th>\n",
       "      <th>title</th>\n",
       "      <th>journal-ref</th>\n",
       "      <th>categories</th>\n",
       "      <th>abstract</th>\n",
       "      <th>update_date</th>\n",
       "      <th>paper_url</th>\n",
       "    </tr>\n",
       "  </thead>\n",
       "  <tbody>\n",
       "    <tr>\n",
       "      <th>123100</th>\n",
       "      <td>1905.10425</td>\n",
       "      <td>Nikita Nangia</td>\n",
       "      <td>Nikita Nangia and Samuel R. Bowman</td>\n",
       "      <td>Human vs. Muppet: A Conservative Estimate of H...</td>\n",
       "      <td>ACL 2019</td>\n",
       "      <td>cs.CL cs.AI</td>\n",
       "      <td>The GLUE benchmark (Wang et al., 2019b) is a...</td>\n",
       "      <td>2019-06-04</td>\n",
       "      <td>https://arxiv.org/abs/1905.10425</td>\n",
       "    </tr>\n",
       "  </tbody>\n",
       "</table>\n",
       "</div>"
      ],
      "text/plain": [
       "                id      submitter                             authors  \\\n",
       "123100  1905.10425  Nikita Nangia  Nikita Nangia and Samuel R. Bowman   \n",
       "\n",
       "                                                    title journal-ref  \\\n",
       "123100  Human vs. Muppet: A Conservative Estimate of H...    ACL 2019   \n",
       "\n",
       "         categories                                           abstract  \\\n",
       "123100  cs.CL cs.AI    The GLUE benchmark (Wang et al., 2019b) is a...   \n",
       "\n",
       "       update_date                         paper_url  \n",
       "123100  2019-06-04  https://arxiv.org/abs/1905.10425  "
      ]
     },
     "execution_count": 22,
     "metadata": {},
     "output_type": "execute_result"
    }
   ],
   "source": [
    "data_df['paper_url'] = data_df['id'].apply(construct_arvix_paper_url)\n",
    "print(f\"Shape of the DataFrame after selecting columns: {data_df.shape}\")\n",
    "data_df.sample()"
   ]
  },
  {
   "cell_type": "code",
   "execution_count": 23,
   "id": "5bbdeb06",
   "metadata": {},
   "outputs": [
    {
     "data": {
      "text/html": [
       "<div>\n",
       "<style scoped>\n",
       "    .dataframe tbody tr th:only-of-type {\n",
       "        vertical-align: middle;\n",
       "    }\n",
       "\n",
       "    .dataframe tbody tr th {\n",
       "        vertical-align: top;\n",
       "    }\n",
       "\n",
       "    .dataframe thead th {\n",
       "        text-align: right;\n",
       "    }\n",
       "</style>\n",
       "<table border=\"1\" class=\"dataframe\">\n",
       "  <thead>\n",
       "    <tr style=\"text-align: right;\">\n",
       "      <th></th>\n",
       "      <th>id</th>\n",
       "      <th>submitter</th>\n",
       "      <th>authors</th>\n",
       "      <th>title</th>\n",
       "      <th>journal-ref</th>\n",
       "      <th>categories</th>\n",
       "      <th>abstract</th>\n",
       "      <th>update_date</th>\n",
       "      <th>paper_url</th>\n",
       "    </tr>\n",
       "  </thead>\n",
       "  <tbody>\n",
       "    <tr>\n",
       "      <th>210682</th>\n",
       "      <td>2109.13016</td>\n",
       "      <td>Thai-Vu Nguyen</td>\n",
       "      <td>Thai-Vu Nguyen, Anh Nguyen, Nghia Le, Bac Le</td>\n",
       "      <td>Semi-Supervised Adversarial Discriminative Dom...</td>\n",
       "      <td>None</td>\n",
       "      <td>cs.CV cs.LG</td>\n",
       "      <td>Domain adaptation is a potential method to t...</td>\n",
       "      <td>2022-10-20</td>\n",
       "      <td>https://arxiv.org/abs/2109.13016</td>\n",
       "    </tr>\n",
       "  </tbody>\n",
       "</table>\n",
       "</div>"
      ],
      "text/plain": [
       "                id       submitter  \\\n",
       "210682  2109.13016  Thai-Vu Nguyen   \n",
       "\n",
       "                                             authors  \\\n",
       "210682  Thai-Vu Nguyen, Anh Nguyen, Nghia Le, Bac Le   \n",
       "\n",
       "                                                    title journal-ref  \\\n",
       "210682  Semi-Supervised Adversarial Discriminative Dom...        None   \n",
       "\n",
       "         categories                                           abstract  \\\n",
       "210682  cs.CV cs.LG    Domain adaptation is a potential method to t...   \n",
       "\n",
       "       update_date                         paper_url  \n",
       "210682  2022-10-20  https://arxiv.org/abs/2109.13016  "
      ]
     },
     "execution_count": 23,
     "metadata": {},
     "output_type": "execute_result"
    }
   ],
   "source": [
    "test_author_name = 'Thai-Vu Nguyen'\n",
    "data_df[data_df['submitter'] == test_author_name]"
   ]
  },
  {
   "cell_type": "code",
   "execution_count": null,
   "id": "7fdb4d2e",
   "metadata": {},
   "outputs": [],
   "source": []
  },
  {
   "cell_type": "markdown",
   "id": "d53917b5",
   "metadata": {},
   "source": [
    "# 3. Explore data"
   ]
  },
  {
   "cell_type": "code",
   "execution_count": 24,
   "id": "7015c40f",
   "metadata": {},
   "outputs": [
    {
     "name": "stdout",
     "output_type": "stream",
     "text": [
      "Unique categories found: {'cs.IR', 'cs.DM', 'cs.CR', 'cs.NI', 'cs.PL', 'cs.RO', 'cs.LG', 'cs.AI', 'cs.CY', 'cs.AR', 'cs.SD', 'cs.CC', 'cs.PF', 'cs.SC', 'cs.DC', 'cs.MA', 'cs.SE', 'cs.NE', 'cs.ET', 'cs.CV', 'cs.MS', 'cs.OS', 'cs.CG', 'cs.CE', 'cs.DL', 'cs.GR', 'cs.SI', 'cs.LO', 'cs.FL', 'cs.GL', 'cs.SY', 'cs.NA', 'cs.OH', 'cs.CL', 'cs.DB', 'cs.DS', 'cs.GT', 'cs.MM', 'cs.HC'}\n"
     ]
    }
   ],
   "source": [
    "list_categories = data_df['categories'].apply(lambda x: x.split(' '))\n",
    "unique_categories = set(list_categories.explode())\n",
    "print(f\"Unique categories found: {unique_categories}\")"
   ]
  },
  {
   "cell_type": "code",
   "execution_count": 25,
   "id": "46cbac16",
   "metadata": {},
   "outputs": [
    {
     "data": {
      "image/png": "[encoded data removed]",
      "text/plain": [
       "<Figure size 1200x600 with 1 Axes>"
      ]
     },
     "metadata": {},
     "output_type": "display_data"
    }
   ],
   "source": [
    "# visualize number of categories\n",
    "\n",
    "plt.figure(figsize=(12, 6))\n",
    "sns.countplot(y=list_categories.explode(), order=list_categories.explode().value_counts().index)\n",
    "plt.title('Distribution of Categories')\n",
    "plt.xlabel('Count')\n",
    "plt.ylabel('Categories')\n",
    "plt.show()"
   ]
  },
  {
   "cell_type": "code",
   "execution_count": 26,
   "id": "e0885aad",
   "metadata": {},
   "outputs": [
    {
     "name": "stdout",
     "output_type": "stream",
     "text": [
      "Processed data saved to Parquet format.\n"
     ]
    }
   ],
   "source": [
    "# Save the processed DataFrame\n",
    "data_df.to_parquet(PATH_FILE_PROCESSED, index=False)\n",
    "print(\"Processed data saved to Parquet format.\")"
   ]
  },
  {
   "cell_type": "code",
   "execution_count": null,
   "id": "c6257007",
   "metadata": {},
   "outputs": [],
   "source": []
  }
 ],
 "metadata": {
  "kernelspec": {
   "display_name": "ds_env",
   "language": "python",
   "name": "python3"
  },
  "language_info": {
   "codemirror_mode": {
    "name": "ipython",
    "version": 3
   },
   "file_extension": ".py",
   "mimetype": "text/x-python",
   "name": "python",
   "nbconvert_exporter": "python",
   "pygments_lexer": "ipython3",
   "version": "3.11.13"
  }
 },
 "nbformat": 4,
 "nbformat_minor": 5
}
