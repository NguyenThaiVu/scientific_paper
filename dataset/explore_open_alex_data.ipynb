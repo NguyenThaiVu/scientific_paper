{
 "cells": [
  {
   "cell_type": "markdown",
   "id": "55ad8eaa",
   "metadata": {},
   "source": [
    "# Description\n",
    "\n",
    "In this notebook, I will explore the dataset from Open Alex. "
   ]
  },
  {
   "cell_type": "code",
   "execution_count": 1,
   "id": "43b9edef",
   "metadata": {},
   "outputs": [],
   "source": [
    "import os \n",
    "import numpy as np\n",
    "import pandas as pd\n",
    "import matplotlib.pyplot as plt\n",
    "import seaborn as sns"
   ]
  },
  {
   "cell_type": "markdown",
   "id": "2c90fcf8",
   "metadata": {},
   "source": [
    "# 1. Read data"
   ]
  },
  {
   "cell_type": "code",
   "execution_count": 2,
   "id": "b0095c76",
   "metadata": {},
   "outputs": [],
   "source": [
    "HOME_DIR = r\"/home/thaiv7/Desktop/python-project/scientific_paper/dataset/data\" \n",
    "PATH_DATA_OPEN_ALEX = os.path.join(HOME_DIR, \"open_alex_paper_info.parquet\")"
   ]
  },
  {
   "cell_type": "code",
   "execution_count": 4,
   "id": "139911e1",
   "metadata": {},
   "outputs": [
    {
     "name": "stdout",
     "output_type": "stream",
     "text": [
      "Data shape: (8310, 9)\n"
     ]
    },
    {
     "data": {
      "text/html": [
       "<div>\n",
       "<style scoped>\n",
       "    .dataframe tbody tr th:only-of-type {\n",
       "        vertical-align: middle;\n",
       "    }\n",
       "\n",
       "    .dataframe tbody tr th {\n",
       "        vertical-align: top;\n",
       "    }\n",
       "\n",
       "    .dataframe thead th {\n",
       "        text-align: right;\n",
       "    }\n",
       "</style>\n",
       "<table border=\"1\" class=\"dataframe\">\n",
       "  <thead>\n",
       "    <tr style=\"text-align: right;\">\n",
       "      <th></th>\n",
       "      <th>arxiv_id</th>\n",
       "      <th>open_alex_id</th>\n",
       "      <th>title</th>\n",
       "      <th>first_author</th>\n",
       "      <th>number_of_citations</th>\n",
       "      <th>keywords</th>\n",
       "      <th>venue_type</th>\n",
       "      <th>venue_name</th>\n",
       "      <th>references</th>\n",
       "    </tr>\n",
       "  </thead>\n",
       "  <tbody>\n",
       "    <tr>\n",
       "      <th>4209</th>\n",
       "      <td>1207.2632</td>\n",
       "      <td>https://openalex.org/W1606072898</td>\n",
       "      <td>On Optimal Top-K String Retrieval</td>\n",
       "      <td>Rahul Shah</td>\n",
       "      <td>6</td>\n",
       "      <td>[Linear space]</td>\n",
       "      <td>repository</td>\n",
       "      <td>arXiv (Cornell University)</td>\n",
       "      <td>[https://openalex.org/W135814361, https://open...</td>\n",
       "    </tr>\n",
       "    <tr>\n",
       "      <th>992</th>\n",
       "      <td>1201.0842</td>\n",
       "      <td>https://openalex.org/W1670818416</td>\n",
       "      <td>Performance of Modeling wireless networks in r...</td>\n",
       "      <td>Mohammad Siraj</td>\n",
       "      <td>11</td>\n",
       "      <td>[Radio propagation model, Mobility model, Radi...</td>\n",
       "      <td>repository</td>\n",
       "      <td>arXiv (Cornell University)</td>\n",
       "      <td>[https://openalex.org/W1591718808, https://ope...</td>\n",
       "    </tr>\n",
       "  </tbody>\n",
       "</table>\n",
       "</div>"
      ],
      "text/plain": [
       "       arxiv_id                      open_alex_id  \\\n",
       "4209  1207.2632  https://openalex.org/W1606072898   \n",
       "992   1201.0842  https://openalex.org/W1670818416   \n",
       "\n",
       "                                                  title    first_author  \\\n",
       "4209                  On Optimal Top-K String Retrieval      Rahul Shah   \n",
       "992   Performance of Modeling wireless networks in r...  Mohammad Siraj   \n",
       "\n",
       "      number_of_citations                                           keywords  \\\n",
       "4209                    6                                     [Linear space]   \n",
       "992                    11  [Radio propagation model, Mobility model, Radi...   \n",
       "\n",
       "      venue_type                  venue_name  \\\n",
       "4209  repository  arXiv (Cornell University)   \n",
       "992   repository  arXiv (Cornell University)   \n",
       "\n",
       "                                             references  \n",
       "4209  [https://openalex.org/W135814361, https://open...  \n",
       "992   [https://openalex.org/W1591718808, https://ope...  "
      ]
     },
     "execution_count": 4,
     "metadata": {},
     "output_type": "execute_result"
    }
   ],
   "source": [
    "df_data = pd.read_parquet(PATH_DATA_OPEN_ALEX)\n",
    "print(f\"Data shape: {df_data.shape}\")\n",
    "df_data.sample(2)"
   ]
  },
  {
   "cell_type": "code",
   "execution_count": null,
   "id": "b80e6434",
   "metadata": {},
   "outputs": [],
   "source": [
    "paper_title = \"Stochastic Optimization Approaches for Solving Sudoku\"\n",
    "\n",
    "df_data[df_data['title'].str.lower() == paper_title.lower()]"
   ]
  },
  {
   "cell_type": "code",
   "execution_count": null,
   "id": "5cffeaca",
   "metadata": {},
   "outputs": [],
   "source": []
  },
  {
   "cell_type": "code",
   "execution_count": null,
   "id": "3cf9af2e",
   "metadata": {},
   "outputs": [],
   "source": []
  },
  {
   "cell_type": "code",
   "execution_count": null,
   "id": "7fbfbdf1",
   "metadata": {},
   "outputs": [],
   "source": []
  },
  {
   "cell_type": "code",
   "execution_count": null,
   "id": "b0d05bd5",
   "metadata": {},
   "outputs": [],
   "source": []
  },
  {
   "cell_type": "code",
   "execution_count": null,
   "id": "3c61bd02",
   "metadata": {},
   "outputs": [],
   "source": []
  }
 ],
 "metadata": {
  "kernelspec": {
   "display_name": "ds_env",
   "language": "python",
   "name": "python3"
  },
  "language_info": {
   "codemirror_mode": {
    "name": "ipython",
    "version": 3
   },
   "file_extension": ".py",
   "mimetype": "text/x-python",
   "name": "python",
   "nbconvert_exporter": "python",
   "pygments_lexer": "ipython3",
   "version": "3.11.13"
  }
 },
 "nbformat": 4,
 "nbformat_minor": 5
}
