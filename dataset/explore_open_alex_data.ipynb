{
 "cells": [
  {
   "cell_type": "markdown",
   "id": "55ad8eaa",
   "metadata": {},
   "source": [
    "# Description\n",
    "\n",
    "In this notebook, I will explore the dataset from Open Alex. "
   ]
  },
  {
   "cell_type": "code",
   "execution_count": 16,
   "id": "43b9edef",
   "metadata": {},
   "outputs": [],
   "source": [
    "import os \n",
    "import numpy as np\n",
    "import pandas as pd\n",
    "import matplotlib.pyplot as plt\n",
    "import seaborn as sns"
   ]
  },
  {
   "cell_type": "markdown",
   "id": "2c90fcf8",
   "metadata": {},
   "source": [
    "# 1. Read data"
   ]
  },
  {
   "cell_type": "code",
   "execution_count": 17,
   "id": "b0095c76",
   "metadata": {},
   "outputs": [],
   "source": [
    "PATH_DATA_CSV = r\"/home/thaiv7/Desktop/python-project/scientific_paper/dataset/data/open_alex_paper_info.parquet\" "
   ]
  },
  {
   "cell_type": "code",
   "execution_count": 18,
   "id": "139911e1",
   "metadata": {},
   "outputs": [
    {
     "name": "stdout",
     "output_type": "stream",
     "text": [
      "Data shape: (174, 10)\n"
     ]
    },
    {
     "data": {
      "text/html": [
       "<div>\n",
       "<style scoped>\n",
       "    .dataframe tbody tr th:only-of-type {\n",
       "        vertical-align: middle;\n",
       "    }\n",
       "\n",
       "    .dataframe tbody tr th {\n",
       "        vertical-align: top;\n",
       "    }\n",
       "\n",
       "    .dataframe thead th {\n",
       "        text-align: right;\n",
       "    }\n",
       "</style>\n",
       "<table border=\"1\" class=\"dataframe\">\n",
       "  <thead>\n",
       "    <tr style=\"text-align: right;\">\n",
       "      <th></th>\n",
       "      <th>arxiv_id</th>\n",
       "      <th>open_alex_id</th>\n",
       "      <th>title</th>\n",
       "      <th>first_author</th>\n",
       "      <th>number_of_citations</th>\n",
       "      <th>keywords</th>\n",
       "      <th>venue_type</th>\n",
       "      <th>venue_name</th>\n",
       "      <th>is_open_access</th>\n",
       "      <th>references</th>\n",
       "    </tr>\n",
       "  </thead>\n",
       "  <tbody>\n",
       "    <tr>\n",
       "      <th>5</th>\n",
       "      <td>0704.3662</td>\n",
       "      <td>https://openalex.org/W1626543738</td>\n",
       "      <td>An Automated Evaluation Metric for Chinese Tex...</td>\n",
       "      <td>Mike Tian-Jian Jiang</td>\n",
       "      <td>0</td>\n",
       "      <td>[Text entry, Edit distance]</td>\n",
       "      <td>repository</td>\n",
       "      <td>arXiv (Cornell University)</td>\n",
       "      <td>False</td>\n",
       "      <td>[https://openalex.org/W1642062763, https://ope...</td>\n",
       "    </tr>\n",
       "    <tr>\n",
       "      <th>32</th>\n",
       "      <td>0707.1151</td>\n",
       "      <td>https://openalex.org/W1678118998</td>\n",
       "      <td>Logic, Design &amp; Organization of PTVD-SHAM; A P...</td>\n",
       "      <td>Philip Baback Alipour</td>\n",
       "      <td>2</td>\n",
       "      <td>[]</td>\n",
       "      <td>repository</td>\n",
       "      <td>arXiv (Cornell University)</td>\n",
       "      <td>False</td>\n",
       "      <td>[https://openalex.org/W131540024, https://open...</td>\n",
       "    </tr>\n",
       "  </tbody>\n",
       "</table>\n",
       "</div>"
      ],
      "text/plain": [
       "     arxiv_id                      open_alex_id  \\\n",
       "5   0704.3662  https://openalex.org/W1626543738   \n",
       "32  0707.1151  https://openalex.org/W1678118998   \n",
       "\n",
       "                                                title           first_author  \\\n",
       "5   An Automated Evaluation Metric for Chinese Tex...   Mike Tian-Jian Jiang   \n",
       "32  Logic, Design & Organization of PTVD-SHAM; A P...  Philip Baback Alipour   \n",
       "\n",
       "    number_of_citations                     keywords  venue_type  \\\n",
       "5                     0  [Text entry, Edit distance]  repository   \n",
       "32                    2                           []  repository   \n",
       "\n",
       "                    venue_name  is_open_access  \\\n",
       "5   arXiv (Cornell University)           False   \n",
       "32  arXiv (Cornell University)           False   \n",
       "\n",
       "                                           references  \n",
       "5   [https://openalex.org/W1642062763, https://ope...  \n",
       "32  [https://openalex.org/W131540024, https://open...  "
      ]
     },
     "execution_count": 18,
     "metadata": {},
     "output_type": "execute_result"
    }
   ],
   "source": [
    "df_data = pd.read_parquet(PATH_DATA_CSV)\n",
    "print(f\"Data shape: {df_data.shape}\")\n",
    "df_data.sample(2)"
   ]
  },
  {
   "cell_type": "code",
   "execution_count": 19,
   "id": "b80e6434",
   "metadata": {},
   "outputs": [
    {
     "data": {
      "text/html": [
       "<div>\n",
       "<style scoped>\n",
       "    .dataframe tbody tr th:only-of-type {\n",
       "        vertical-align: middle;\n",
       "    }\n",
       "\n",
       "    .dataframe tbody tr th {\n",
       "        vertical-align: top;\n",
       "    }\n",
       "\n",
       "    .dataframe thead th {\n",
       "        text-align: right;\n",
       "    }\n",
       "</style>\n",
       "<table border=\"1\" class=\"dataframe\">\n",
       "  <thead>\n",
       "    <tr style=\"text-align: right;\">\n",
       "      <th></th>\n",
       "      <th>arxiv_id</th>\n",
       "      <th>open_alex_id</th>\n",
       "      <th>title</th>\n",
       "      <th>first_author</th>\n",
       "      <th>number_of_citations</th>\n",
       "      <th>keywords</th>\n",
       "      <th>venue_type</th>\n",
       "      <th>venue_name</th>\n",
       "      <th>is_open_access</th>\n",
       "      <th>references</th>\n",
       "    </tr>\n",
       "  </thead>\n",
       "  <tbody>\n",
       "  </tbody>\n",
       "</table>\n",
       "</div>"
      ],
      "text/plain": [
       "Empty DataFrame\n",
       "Columns: [arxiv_id, open_alex_id, title, first_author, number_of_citations, keywords, venue_type, venue_name, is_open_access, references]\n",
       "Index: []"
      ]
     },
     "execution_count": 19,
     "metadata": {},
     "output_type": "execute_result"
    }
   ],
   "source": [
    "paper_title = \"Stochastic Optimization Approaches for Solving Sudoku\"\n",
    "\n",
    "df_data[df_data['title'].str.lower() == paper_title.lower()]"
   ]
  },
  {
   "cell_type": "code",
   "execution_count": null,
   "id": "5cffeaca",
   "metadata": {},
   "outputs": [],
   "source": []
  },
  {
   "cell_type": "code",
   "execution_count": null,
   "id": "3cf9af2e",
   "metadata": {},
   "outputs": [],
   "source": []
  },
  {
   "cell_type": "code",
   "execution_count": null,
   "id": "7fbfbdf1",
   "metadata": {},
   "outputs": [],
   "source": []
  },
  {
   "cell_type": "code",
   "execution_count": null,
   "id": "b0d05bd5",
   "metadata": {},
   "outputs": [],
   "source": []
  },
  {
   "cell_type": "code",
   "execution_count": null,
   "id": "3c61bd02",
   "metadata": {},
   "outputs": [],
   "source": []
  }
 ],
 "metadata": {
  "kernelspec": {
   "display_name": "ds_env",
   "language": "python",
   "name": "python3"
  },
  "language_info": {
   "codemirror_mode": {
    "name": "ipython",
    "version": 3
   },
   "file_extension": ".py",
   "mimetype": "text/x-python",
   "name": "python",
   "nbconvert_exporter": "python",
   "pygments_lexer": "ipython3",
   "version": "3.11.13"
  }
 },
 "nbformat": 4,
 "nbformat_minor": 5
}
